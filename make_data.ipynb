{
 "cells": [
  {
   "cell_type": "markdown",
   "metadata": {},
   "source": [
    "# Make buoy data file\n",
    "\n",
    "Standardize buoy data and put it together in a Pandas dataframe."
   ]
  },
  {
   "cell_type": "code",
   "execution_count": 1,
   "metadata": {
    "collapsed": true
   },
   "outputs": [],
   "source": [
    "import matplotlib.pyplot as plt\n",
    "%matplotlib inline\n",
    "import pandas as pd\n",
    "from matplotlib.dates import date2num\n",
    "import numpy as np\n",
    "import cartopy\n",
    "from cartopy.mpl.gridliner import LONGITUDE_FORMATTER, LATITUDE_FORMATTER\n",
    "import cmocean.cm as cmo\n",
    "import os\n",
    "from collections import OrderedDict"
   ]
  },
  {
   "cell_type": "code",
   "execution_count": 2,
   "metadata": {
    "collapsed": true
   },
   "outputs": [],
   "source": [
    "base = 'drive_data/'"
   ]
  },
  {
   "cell_type": "code",
   "execution_count": 3,
   "metadata": {
    "collapsed": true
   },
   "outputs": [],
   "source": [
    "# read in buoy info\n",
    "bys = pd.read_csv(base + 'buoys.csv', index_col=0).to_dict('index')\n",
    "\n",
    "buoys = {'BOLI': {'ll': ([-94.783, 29.342]), 'color': '#689F38', 'vars': ['WaterT [deg C]', 'Depth [m]', 'Salinity']},\n",
    "         'MIDG': {'ll': ([-94.875, 29.508]),  'color': '#FBC02D', 'vars': ['WaterT [deg C]', 'Depth [m]', 'Salinity']},\n",
    "         'FISH': {'ll': ([-94.854, 29.670]),  'color': '#F57C00', 'vars': ['WaterT [deg C]', 'Depth [m]', 'Salinity']},\n",
    "         'TRIN': {'ll': ([-94.746, 29.661]),  'color': '#FFA000', 'vars': ['WaterT [deg C]', 'Depth [m]', 'Salinity']},\n",
    "         'OLDR': {'ll': ([-94.783, 29.833]), 'color': '#D32F2F', 'vars': ['WaterT [deg C]', 'Depth [m]', 'Salinity']},\n",
    "         '8771486': {'ll': ([bys['8771486']['lon'], bys['8771486']['lat']]),  'color': '#0097A7',\n",
    "                     'vars': ['Water Level [m]', 'AirT [deg C]', 'WaterT [deg C]', 'East [m/s]', 'North [m/s]']},\n",
    "         '8770613': {'ll': ([bys['8770613']['lon'], bys['8770613']['lat']]),  'color': '#E64A19',\n",
    "                     'vars': ['Water Level [m]', 'AirT [deg C]', 'WaterT [deg C]', 'East [m/s]', 'North [m/s]', 'Salinity']},\n",
    "         '8771013': {'ll': ([bys['8771013']['lon'], bys['8771013']['lat']]), 'color': '#AFB42B',\n",
    "                     'vars': ['Water Level [m]', 'AirT [deg C]', 'WaterT [deg C]', 'East [m/s]', 'North [m/s]', 'Salinity']},\n",
    "         '8771341': {'ll': ([bys['8771341']['lon'], bys['8771341']['lat']]), 'color': '#388E3C',\n",
    "                     'vars': ['Water Level [m]', 'AirT [deg C]', 'WaterT [deg C]', 'East [m/s]', 'North [m/s]']},\n",
    "         '8771450': {'ll': ([bys['8771450']['lon'], bys['8771450']['lat']]), 'color': '#00796B',\n",
    "                     'vars': ['Water Level [m]', 'AirT [deg C]', 'WaterT [deg C]', 'East [m/s]', 'North [m/s]']},\n",
    "         'B': {'ll': ([bys['B']['lon'], bys['B']['lat']]), 'color': '#303F9F',\n",
    "                     'vars': ['AirT [deg C]', 'WaterT [deg C]', 'East [m/s]', 'North [m/s]', 'Salinity', 'Along [cm/s]', 'Across [cm/s]']},\n",
    "         'g06010': {'ll': ([bys['g06010']['lon'], bys['g06010']['lat']]), 'color': '#388E3C',\n",
    "                     'vars': ['Along [cm/s]', 'Across [cm/s]']},\n",
    "         '42035': {'ll': ([bys['42035']['lon'], bys['42035']['lat']]), 'color': '#5D4037',\n",
    "                     'vars': ['AirT [deg C]', 'WaterT [deg C]', 'East [m/s]', 'North [m/s]']},\n",
    "         '8770808': {'ll': ([bys['8770808']['lon'], bys['8770808']['lat']]), 'color': '#512DA8',\n",
    "                     'vars': ['Water Level [m]', 'AirT [deg C]', 'WaterT [deg C]', 'East [m/s]', 'North [m/s]']},\n",
    "         '8770777': {'ll': ([bys['8770777']['lon'], bys['8770777']['lat']]), 'color': '#C2185B',\n",
    "                     'vars': ['Water Level [m]', 'AirT [deg C]', 'WaterT [deg C]', 'East [m/s]', 'North [m/s]']},\n",
    "         '8770822': {'ll': ([bys['8770822']['lon'], bys['8770822']['lat']]), 'color': '#455A64',\n",
    "                     'vars': ['Water Level [m]', 'AirT [deg C]', 'WaterT [deg C]', 'East [m/s]', 'North [m/s]']},\n",
    "         '8770971': {'ll': ([bys['8770971']['lon'], bys['8770971']['lat']]), 'color': '#7B1FA2',\n",
    "                     'vars': ['Water Level [m]', 'AirT [deg C]', 'WaterT [deg C]', 'East [m/s]', 'North [m/s]']},\n",
    "         '8771972': {'ll': ([bys['8771972']['lon'], bys['8771972']['lat']]), 'color': '#0288D1',\n",
    "                     'vars': ['Water Level [m]', 'AirT [deg C]', 'WaterT [deg C]', 'East [m/s]', 'North [m/s]']}\n",
    "        }\n",
    "\n",
    "\n",
    "buoys_ordered = ['8770777', '8770613', 'OLDR', 'FISH', 'TRIN', 'MIDG', '8771013', 'BOLI', 'g06010', '8771341',\n",
    "                '8771450', '8771486', '8771972', '8770971', '8770808', 'B', '42035', '8770822']\n",
    "# buoys down main bay\n",
    "buoys_main = ['8770613', 'FISH', 'TRIN', 'MIDG', '8771013', 'BOLI', 'g06010', '8771341', '8771450']"
   ]
  },
  {
   "cell_type": "code",
   "execution_count": 4,
   "metadata": {
    "collapsed": true
   },
   "outputs": [],
   "source": [
    "savename = base + 'data.csv'\n",
    "dstart = '2017-06-01'; dend = '2017-12-31'\n",
    "tz = 'US/Central'\n",
    "if not os.path.exists(savename):\n",
    "            \n",
    "    ## River inflow to Trinity Bay ##\n",
    "    # https://txpub.usgs.gov/txwaterdashboard/index.html\n",
    "    # direct link:\n",
    "    url = 'https://nwis.waterdata.usgs.gov/usa/nwis/uv/?cb_00060=on&cb_00065=on&format=rdb&site_no=08067070&period=&begin_date=' \\\n",
    "            + dstart + '&end_date=' + dend\n",
    "    river = pd.read_table(url, parse_dates=True, skiprows=29, header=None, usecols=[2,4], index_col=0,\n",
    "                     names=['Dates [CDT]', 'Trinity flow rate [m^3/s]'])[dstart:dend].tz_localize('US/Central', ambiguous=True)\n",
    "#     river = pd.read_table('../usgs/08067070.txt', parse_dates=True, skiprows=29, header=None, usecols=[2,4], index_col=0,\n",
    "#                      names=['Dates [CDT]', 'Trinity flow rate [m^3/s]'])[dstart:dend].tz_localize('US/Central', ambiguous=True)\n",
    "    river = river*0.3048**3  # to m^3/s\n",
    "    river = river.resample('1H', base=0).mean()\n",
    "    df = pd.DataFrame(index=river.index, data=river)\n",
    "    \n",
    "    ## TWDB ##\n",
    "#     # Boli can be dealt with separately\n",
    "#     dft = pd.read_csv('../twdb/Boli.csv', index_col=0, parse_dates=True)[dstart:dend].tz_localize('UTC').tz_convert(tz)\n",
    "#     dft.drop(['Datetime_(UTC).1', 'water_conductivity_mS/cm',\n",
    "#               'instrument_battery_voltage', 'water_specific_conductivity_mS/cm'], axis=1, inplace=True)\n",
    "#     dft.rename(columns={'water_temp_C': 'BOLI: WaterT [deg C]',\n",
    "#                         'water_depth_m_nonvented': 'BOLI: Depth [m]',\n",
    "#                         'water_salinity_PSU': 'BOLI: Salinity'}, inplace=True)\n",
    "#     dft = dft.resample('1H', base=0).mean()\n",
    "#     df['BOLI: WaterT [deg C]'] = dft['BOLI: WaterT [deg C]']\n",
    "#     df['BOLI: Depth [m]'] = dft['BOLI: Depth [m]']\n",
    "#     df['BOLI: Salinity'] = dft['BOLI: Salinity']\n",
    "    \n",
    "    names = ['FISH', 'MIDG', 'OLDR', 'TRIN', 'BOLI']\n",
    "    Files = ['seawater_salinity', 'water_depth_nonvented', 'water_temperature']\n",
    "    filenames = ['Salinity', 'Depth [m]', 'WaterT [deg C]']\n",
    "    base = 'https://waterdatafortexas.org/coastal/api/stations/' \n",
    "    for name  in names:\n",
    "        for File, filename  in zip(Files, filenames):\n",
    "            # read in as UTC\n",
    "            url = base + name + '/data/' + File + '?output_format=csv&binning=hour'\n",
    "            dft = pd.read_csv(url, index_col=0,\n",
    "                             parse_dates=True, comment='#', header=0, names=['dates [local]', filename])[dstart:dend].tz_localize('UTC').tz_convert(tz)\n",
    "#             dft = pd.read_csv('../twdb/' + name + File + '.csv', index_col=0,\n",
    "#                              parse_dates=True, comment='#', header=0, names=['dates [local]', filename])[dstart:dend].tz_localize('UTC').tz_convert(tz)\n",
    "            dft = dft.resample('1H', base=0).mean()\n",
    "            df[name + ': ' + filename] = dft\n",
    "    \n",
    "    ## TABS ##\n",
    "    for table in ['met', 'salt', 'ven']:\n",
    "        url = 'http://localhost/tabswebsite/subpages/tabsquery.php?Buoyname=B&table=' + table + '&Datatype=download&units=M&tz=US/Central&model=False&datepicker='\n",
    "        url += dstart + '+-+' + dend\n",
    "        dft = pd.read_table(url, parse_dates=True, index_col=0, na_values=-999)[dstart:dend].tz_localize(tz, ambiguous=True)\n",
    "#         dft = pd.read_table('../buoys/tabs_B_' + table, index_col=0,\n",
    "#                          parse_dates=True)[dstart:dend].tz_localize(tz, ambiguous=True)\n",
    "        dft = dft.resample('1H', base=0).mean()\n",
    "        for var in buoys['B']['vars']:\n",
    "            if var in dft.columns:\n",
    "                df['B: ' + var] = dft[var]\n",
    "        \n",
    "    \n",
    "    ## NOS/NDBC buoys ##\n",
    "    for buoy in buoys:\n",
    "        if len(buoy) < 5:\n",
    "            continue\n",
    "        url = 'http://localhost/tabswebsite/subpages/tabsquery.php?Buoyname=' + buoy + '&Datatype=download&units=M&tz=US/Central&model=False&datepicker='\n",
    "        url += dstart + '+-+' + dend\n",
    "        dft = pd.read_table(url, parse_dates=True, index_col=0, na_values=-999)[dstart:dend].tz_localize(tz, ambiguous=True)\n",
    "#         dft = pd.read_table('../buoys/' + buoy, index_col=0, parse_dates=True, na_values=-999.00)[dstart:dend].tz_localize(tz, ambiguous=True)\n",
    "        dft = dft.resample('1H', base=0).mean()\n",
    "        for var in buoys[buoy]['vars']:\n",
    "            if var in dft.columns:\n",
    "                df[buoy + ': ' + var] = dft[var]\n",
    "    \n",
    "    ## Vertical datum\n",
    "    # The vertical datum for the bathymetry is mean high water (in file \"Galveston_DEM_metadata.html\"). \n",
    "    # The sea level measurements that I use are in mean sea level, so need to adjust.\n",
    "    # using station datum information from e.g. https://tidesandcurrents.noaa.gov/datums.html?id=8771013\n",
    "    df['8771013: Water Level [m]'] -= (1.610 - 1.467)  # MHW - MSL datums, meters\n",
    "    df['8771341: Water Level [m]'] -= (3.249 - 3.072)  # MHW - MSL datums, meters\n",
    "    df['8770777: Water Level [m]'] -= (2.140 - 1.951)  # MHW - MSL datums, meters\n",
    "    df['8770613: Water Level [m]'] -= (1.967 - 1.807)  # MHW - MSL datums, meters\n",
    "    df['8771450: Water Level [m]'] -= (1.739 - 1.588)  # MHW - MSL datums, meters\n",
    "    df['8771486: Water Level [m]'] -= (6.311 - 6.183)  # MHW - MSL datums, meters\n",
    "    df['8771972: Water Level [m]'] -= (1.621 - 1.498)  # MHW - MSL datums, meters\n",
    "    df['8770971: Water Level [m]'] -= (1.425 - 1.259)  # MHW - MSL datums, meters\n",
    "    df['8770808: Water Level [m]'] -= (4.462 - 4.299)  # MHW - MSL datums, meters\n",
    "    df['8770822: Water Level [m]'] -= (1.507 - 1.308)  # MHW - MSL datums, meters\n",
    "\n",
    "    df.to_csv(savename)"
   ]
  },
  {
   "cell_type": "code",
   "execution_count": null,
   "metadata": {
    "collapsed": true
   },
   "outputs": [],
   "source": []
  }
 ],
 "metadata": {
  "kernelspec": {
   "display_name": "Python 3",
   "language": "python",
   "name": "python3"
  },
  "language_info": {
   "codemirror_mode": {
    "name": "ipython",
    "version": 3
   },
   "file_extension": ".py",
   "mimetype": "text/x-python",
   "name": "python",
   "nbconvert_exporter": "python",
   "pygments_lexer": "ipython3",
   "version": "3.6.2"
  }
 },
 "nbformat": 4,
 "nbformat_minor": 2
}
